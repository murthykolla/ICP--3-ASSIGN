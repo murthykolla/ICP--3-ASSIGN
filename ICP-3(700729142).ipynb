{
 "cells": [
  {
   "cell_type": "raw",
   "id": "dbe352bf",
   "metadata": {},
   "source": [
    "                                             Neural Network & Deep Learning \n",
    "                                                       ICP-3\n",
    "        \n",
    "                                                                                           V V S Murthy Kolla\n",
    "                                                                                           700729142"
   ]
  },
  {
   "cell_type": "markdown",
   "id": "c3588f86",
   "metadata": {},
   "source": [
    "1. Create a class Employee and then do the following\n",
    "• Create a data member to count the number of Employees\n",
    "• Create a constructor to initialize name, family, salary, department\n",
    "• Create a function to average salary\n",
    "• Create a Fulltime Employee class and it should inherit the properties of Employee class\n",
    "• Create the instances of Fulltime Employee class and Employee class and call their member functions."
   ]
  },
  {
   "cell_type": "code",
   "execution_count": 1,
   "id": "85ca1606",
   "metadata": {},
   "outputs": [
    {
     "name": "stdout",
     "output_type": "stream",
     "text": [
      "\n",
      " Name: nimmu \n",
      " Family: malla \n",
      " Salary: 9000 \n",
      " Department: electronics \n",
      "\n",
      "\n",
      " Name: navya \n",
      " Family: gorlla \n",
      " Salary: 1000 \n",
      " Department: computerscienmce \n",
      "\n",
      "\n",
      " Name: murphy \n",
      " Family: kolla \n",
      " Salary: 6000 \n",
      " Department: civil \n",
      "\n",
      "Total No. of Employees: 3\n",
      "employees avg salary: 5333.333333333333\n"
     ]
    }
   ],
   "source": [
    "# # creating Employee class\n",
    "class Employee:\n",
    "    numOfEmployees = 0\n",
    "    employeSalary = 0\n",
    "\n",
    "    # Defining constructor method\n",
    "    def __init__(self, name, family, salary, department):\n",
    "        self.name = name\n",
    "        self.family = family\n",
    "        self.salary = salary\n",
    "        self.department = department\n",
    "        Employee.numOfEmployees += 1\n",
    "        Employee.employeSalary = Employee.employeSalary+self.salary\n",
    "\n",
    "    # method to define employees avg salary\n",
    "    def avgSalary(self):\n",
    "        avgSalary = Employee.employeSalary/Employee.numOfEmployees\n",
    "        return(print(\"employees avg salary:\", avgSalary))\n",
    "\n",
    "    # method to print epmloyees details \n",
    "    def printEmployeeDetails(self):\n",
    "        print(\"\\n Name:\",self.name, \"\\n Family:\", self.family, \"\\n Salary:\", self.salary, \"\\n Department:\", self.department, \"\\n\")\n",
    "\n",
    "# creating Fulltime Employee Class and inherit the Employee class\n",
    "class FulltimeEmployee(Employee):\n",
    "    def __init__(self, name, family, salary, department):\n",
    "        Employee.__init__(self, name, family, salary, department)\n",
    "\n",
    "\n",
    "emp1 = Employee('nimmu', 'malla', 9000, 'electronics')\n",
    "emp2 = Employee('navya', 'gorlla', 1000, 'computerscienmce')\n",
    "fulltimeEmp = FulltimeEmployee('murphy', 'kolla', 6000, 'civil')\n",
    "\n",
    "emp1.printEmployeeDetails()\n",
    "emp2.printEmployeeDetails()\n",
    "fulltimeEmp.printEmployeeDetails()\n",
    "\n",
    "#print total number of employees\n",
    "print(\"Total No. of Employees:\", Employee.numOfEmployees)\n",
    "#avg salaraly of employees\n",
    "emp1.avgSalary()"
   ]
  },
  {
   "cell_type": "markdown",
   "id": "7fb916af",
   "metadata": {},
   "source": [
    "2.Using NumPy create random vector of size 20 having only float in the range 1-20.\n",
    "Then reshape the array to 4 by 5\n",
    "Then replace the max in each row by 0 (axis=1)\n",
    "(you can NOT implement it via for loop)"
   ]
  },
  {
   "cell_type": "code",
   "execution_count": 2,
   "id": "2e2038c8",
   "metadata": {},
   "outputs": [
    {
     "name": "stdout",
     "output_type": "stream",
     "text": [
      "[[14.89576342  5.369685   10.26540916  2.35969241  0.        ]\n",
      " [17.96501853  8.94356401  1.71422418 12.66450158  0.        ]\n",
      " [13.23524009  0.          6.46230682  8.77210347 12.62665388]\n",
      " [ 0.          6.39019988  7.44734222  9.55253835  1.80312789]]\n"
     ]
    }
   ],
   "source": [
    "#importing numpy library \n",
    "import numpy as np\n",
    "\n",
    "# Create a random vector of size 20 with floats between 1 and 20\n",
    "vec = np.random.uniform(1, 20, 20)\n",
    "\n",
    "# Reshape the vector to a 4x5 array\n",
    "arr= vec.reshape(4,5)\n",
    "\n",
    "# Replace the max in each row with 0\n",
    "arr[np.arange(4), arr.argmax(axis=1)] = 0\n",
    "\n",
    "print(arr)\n"
   ]
  },
  {
   "cell_type": "code",
   "execution_count": null,
   "id": "0cf4c4b3",
   "metadata": {},
   "outputs": [],
   "source": []
  },
  {
   "cell_type": "code",
   "execution_count": null,
   "id": "9c9b558c",
   "metadata": {},
   "outputs": [],
   "source": []
  }
 ],
 "metadata": {
  "kernelspec": {
   "display_name": "Python 3 (ipykernel)",
   "language": "python",
   "name": "python3"
  },
  "language_info": {
   "codemirror_mode": {
    "name": "ipython",
    "version": 3
   },
   "file_extension": ".py",
   "mimetype": "text/x-python",
   "name": "python",
   "nbconvert_exporter": "python",
   "pygments_lexer": "ipython3",
   "version": "3.10.2"
  }
 },
 "nbformat": 4,
 "nbformat_minor": 5
}
